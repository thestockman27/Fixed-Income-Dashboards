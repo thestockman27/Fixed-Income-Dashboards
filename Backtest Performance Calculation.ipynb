{
 "cells": [
  {
   "cell_type": "markdown",
   "metadata": {},
   "source": [
    "Load backtest object"
   ]
  },
  {
   "cell_type": "code",
   "execution_count": 27,
   "metadata": {},
   "outputs": [],
   "source": [
    "import pickle\n",
    "\n",
    "class backtest_object:\n",
    "  def __init__(self,grid_search, X, y, best_estim_preds, final_model):\n",
    "    self.grid_search = grid_search\n",
    "    self.X = X\n",
    "    self.y = y\n",
    "    self.best_estim_preds = best_estim_preds\n",
    "    self.final_model = best_gbm\n",
    "\n",
    "def Acc_Score(y_true,y_pred):\n",
    "    global ys\n",
    "    ys.append(y_pred)\n",
    "    acc = accuracy_score(y_true, y_pred)    \n",
    "    return acc\n",
    "\n",
    "# Load the object from the file\n",
    "with open('backtest_object_10Y_UST_v1.pkl', 'rb') as file:\n",
    "    backtest_object_10Y_UST_v1 = pickle.load(file)"
   ]
  },
  {
   "cell_type": "code",
   "execution_count": 28,
   "metadata": {},
   "outputs": [
    {
     "name": "stdout",
     "output_type": "stream",
     "text": [
      "Best Hyperparameters: {'learning_rate': 0.1, 'max_depth': 8, 'min_samples_leaf': 5, 'n_estimators': 50, 'subsample': 1}\n",
      "Accuracy of the Best Hyperparameters: 0.6235\n"
     ]
    }
   ],
   "source": [
    "# Print the best hyperparameters\n",
    "print(\"Best Hyperparameters:\", backtest_object_10Y_UST_v1.grid_search.best_params_)\n",
    "print(f'Accuracy of the Best Hyperparameters: {backtest_object_10Y_UST_v1.grid_search.best_score_:.4f}')\n"
   ]
  },
  {
   "cell_type": "code",
   "execution_count": 29,
   "metadata": {},
   "outputs": [],
   "source": [
    "X = backtest_object_10Y_UST_v1.X\n",
    "y = backtest_object_10Y_UST_v1.y\n",
    "y_preds = backtest_object_10Y_UST_v1.best_estim_preds"
   ]
  },
  {
   "cell_type": "code",
   "execution_count": 30,
   "metadata": {},
   "outputs": [
    {
     "data": {
      "text/plain": [
       "Date\n",
       "2023-09-03    SHORT\n",
       "2023-09-10    SHORT\n",
       "2023-09-17    SHORT\n",
       "2023-09-24    SHORT\n",
       "2023-10-01    SHORT\n",
       "Name: YIELD_weekly_percent_change_10 YR_lead, dtype: object"
      ]
     },
     "execution_count": 30,
     "metadata": {},
     "output_type": "execute_result"
    }
   ],
   "source": [
    "y.tail()"
   ]
  },
  {
   "cell_type": "code",
   "execution_count": 31,
   "metadata": {},
   "outputs": [
    {
     "data": {
      "text/plain": [
       "247"
      ]
     },
     "execution_count": 31,
     "metadata": {},
     "output_type": "execute_result"
    }
   ],
   "source": [
    "len(y[(len(y) - len(y_preds)):,])"
   ]
  },
  {
   "cell_type": "code",
   "execution_count": 42,
   "metadata": {},
   "outputs": [],
   "source": [
    "import pandas as pd\n",
    "# Merge or join with the existing merged_data\n",
    "y_df = pd.DataFrame(y[(len(y) - len(y_preds)):,])\n",
    "y_df['y_pred'] = y_pred\n",
    "y_df['y_act'] = y_df['YIELD_weekly_percent_change_10 YR_lead'].shift(1) # need to import the actual y0 values from original data\n",
    "#merged_data = pd.merge(y,y_pred, on='Date' ,how='left')\n",
    "#merged_data = pd.merge(merged_data, X[], on='Date' ,how='left')"
   ]
  },
  {
   "cell_type": "code",
   "execution_count": 41,
   "metadata": {},
   "outputs": [
    {
     "data": {
      "text/plain": [
       "DatetimeIndex(['2006-08-20', '2006-08-27', '2006-09-03', '2006-09-10',\n",
       "               '2006-09-17', '2006-09-24', '2006-10-01', '2006-10-08',\n",
       "               '2006-10-15', '2006-10-22',\n",
       "               ...\n",
       "               '2023-07-30', '2023-08-06', '2023-08-13', '2023-08-20',\n",
       "               '2023-08-27', '2023-09-03', '2023-09-10', '2023-09-17',\n",
       "               '2023-09-24', '2023-10-01'],\n",
       "              dtype='datetime64[ns]', name='Date', length=823, freq=None)"
      ]
     },
     "execution_count": 41,
     "metadata": {},
     "output_type": "execute_result"
    }
   ],
   "source": [
    "X.index\n"
   ]
  },
  {
   "cell_type": "code",
   "execution_count": 38,
   "metadata": {},
   "outputs": [
    {
     "data": {
      "text/html": [
       "<div>\n",
       "<style scoped>\n",
       "    .dataframe tbody tr th:only-of-type {\n",
       "        vertical-align: middle;\n",
       "    }\n",
       "\n",
       "    .dataframe tbody tr th {\n",
       "        vertical-align: top;\n",
       "    }\n",
       "\n",
       "    .dataframe thead th {\n",
       "        text-align: right;\n",
       "    }\n",
       "</style>\n",
       "<table border=\"1\" class=\"dataframe\">\n",
       "  <thead>\n",
       "    <tr style=\"text-align: right;\">\n",
       "      <th></th>\n",
       "      <th>YIELD_weekly_percent_change_10 YR_lead</th>\n",
       "      <th>y_pred</th>\n",
       "    </tr>\n",
       "    <tr>\n",
       "      <th>Date</th>\n",
       "      <th></th>\n",
       "      <th></th>\n",
       "    </tr>\n",
       "  </thead>\n",
       "  <tbody>\n",
       "    <tr>\n",
       "      <th>2023-09-03</th>\n",
       "      <td>SHORT</td>\n",
       "      <td>[SHORT]</td>\n",
       "    </tr>\n",
       "    <tr>\n",
       "      <th>2023-09-10</th>\n",
       "      <td>SHORT</td>\n",
       "      <td>[SHORT]</td>\n",
       "    </tr>\n",
       "    <tr>\n",
       "      <th>2023-09-17</th>\n",
       "      <td>SHORT</td>\n",
       "      <td>[LONG]</td>\n",
       "    </tr>\n",
       "    <tr>\n",
       "      <th>2023-09-24</th>\n",
       "      <td>SHORT</td>\n",
       "      <td>[LONG]</td>\n",
       "    </tr>\n",
       "    <tr>\n",
       "      <th>2023-10-01</th>\n",
       "      <td>SHORT</td>\n",
       "      <td>[LONG]</td>\n",
       "    </tr>\n",
       "  </tbody>\n",
       "</table>\n",
       "</div>"
      ],
      "text/plain": [
       "           YIELD_weekly_percent_change_10 YR_lead   y_pred\n",
       "Date                                                      \n",
       "2023-09-03                                  SHORT  [SHORT]\n",
       "2023-09-10                                  SHORT  [SHORT]\n",
       "2023-09-17                                  SHORT   [LONG]\n",
       "2023-09-24                                  SHORT   [LONG]\n",
       "2023-10-01                                  SHORT   [LONG]"
      ]
     },
     "execution_count": 38,
     "metadata": {},
     "output_type": "execute_result"
    }
   ],
   "source": [
    "y_df.tail()\n"
   ]
  }
 ],
 "metadata": {
  "kernelspec": {
   "display_name": "Python 3",
   "language": "python",
   "name": "python3"
  },
  "language_info": {
   "codemirror_mode": {
    "name": "ipython",
    "version": 3
   },
   "file_extension": ".py",
   "mimetype": "text/x-python",
   "name": "python",
   "nbconvert_exporter": "python",
   "pygments_lexer": "ipython3",
   "version": "3.11.3"
  }
 },
 "nbformat": 4,
 "nbformat_minor": 2
}
