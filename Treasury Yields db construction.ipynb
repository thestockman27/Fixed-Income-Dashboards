{
 "cells": [
  {
   "cell_type": "code",
   "execution_count": 1,
   "metadata": {},
   "outputs": [
    {
     "name": "stdout",
     "output_type": "stream",
     "text": [
      "Databases created successfully.\n"
     ]
    }
   ],
   "source": [
    "import sqlite3\n",
    "import pandas as pd\n",
    "import quandl\n",
    "\n",
    "# Set your Quandl API key\n",
    "quandl.ApiConfig.api_key = 'FMezMmR86K7axszB_rkz'\n",
    "\n",
    "# Define the series codes\n",
    "series_codes = {\"YIELD\":'YIELD',\"REALYIELD\":'REALYIELD'}\n",
    "\n",
    "# Prefix to be added to each series code\n",
    "prefix = \"USTREASURY/\"\n",
    "\n",
    "# Frequencies to download (daily, weekly, monthly)\n",
    "frequencies = ['daily', 'weekly', 'monthly']\n",
    "\n",
    "# Create an SQLite connection and cursor\n",
    "conn = sqlite3.connect('Treasury_Yields_data.db')\n",
    "cursor = conn.cursor()\n",
    "\n",
    "# Fetch data and create tables for each frequency\n",
    "for series_code in series_codes:\n",
    "    for frequency in frequencies:\n",
    "        full_series_code = prefix + series_code\n",
    "\n",
    "        # Adjust the frequency in the Quandl request\n",
    "        data = quandl.get(full_series_code, collapse=frequency)\n",
    "\n",
    "        # Create a table for the original series\n",
    "        table_name = f\"{series_codes[series_code]}_{frequency}\"\n",
    "        # Create a table for the original series\n",
    "        data.to_sql(table_name, conn, if_exists='replace', index=True)\n",
    "\n",
    "        # Create a table for the period-to-period difference\n",
    "        diff_data = data.diff()\n",
    "        diff_table_name = f\"{table_name}_diff\"\n",
    "        diff_data.to_sql(diff_table_name, conn, if_exists='replace', index=True)\n",
    "\n",
    "        # Create a table for the percent change\n",
    "        percent_change_data = data.pct_change()\n",
    "        percent_change_table_name = f\"{table_name}_percent_change\"\n",
    "        percent_change_data.to_sql(percent_change_table_name, conn, if_exists='replace', index=True)\n",
    "\n",
    "# Commit changes and close connection\n",
    "conn.commit()\n",
    "conn.close()\n",
    "\n",
    "print(\"Databases created successfully.\")\n"
   ]
  }
 ],
 "metadata": {
  "kernelspec": {
   "display_name": "Python 3",
   "language": "python",
   "name": "python3"
  },
  "language_info": {
   "codemirror_mode": {
    "name": "ipython",
    "version": 3
   },
   "file_extension": ".py",
   "mimetype": "text/x-python",
   "name": "python",
   "nbconvert_exporter": "python",
   "pygments_lexer": "ipython3",
   "version": "3.11.3"
  }
 },
 "nbformat": 4,
 "nbformat_minor": 2
}
