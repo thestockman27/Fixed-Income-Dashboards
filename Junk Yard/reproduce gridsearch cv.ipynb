{
 "cells": [
  {
   "cell_type": "code",
   "execution_count": null,
   "metadata": {},
   "outputs": [],
   "source": [
    "# lets just determine whether or not we can recreate the best model from the parallel gridsearch"
   ]
  },
  {
   "cell_type": "code",
   "execution_count": 1,
   "metadata": {},
   "outputs": [],
   "source": [
    "import pickle\n",
    "\n",
    "class backtest_object:\n",
    "  def __init__(self,grid_search, X, y, best_estim_preds, final_model):\n",
    "    self.grid_search = grid_search\n",
    "    self.X = X\n",
    "    self.y = y\n",
    "    self.best_estim_preds = best_estim_preds\n",
    "    self.final_model = best_gbm\n",
    "\n",
    "def Acc_Score(y_true,y_pred):\n",
    "    global ys\n",
    "    ys.append(y_pred)\n",
    "    acc = accuracy_score(y_true, y_pred)    \n",
    "    return acc\n",
    "\n",
    "# Load the object from the file\n",
    "with open('backtest_object_10Y_UST_v1_1.pkl', 'rb') as file:\n",
    "    backtest_object_10Y_UST_v1_1 = pickle.load(file)"
   ]
  },
  {
   "cell_type": "code",
   "execution_count": 2,
   "metadata": {},
   "outputs": [],
   "source": [
    "X = backtest_object_10Y_UST_v1_1.X\n",
    "y = backtest_object_10Y_UST_v1_1.y"
   ]
  },
  {
   "cell_type": "code",
   "execution_count": 3,
   "metadata": {},
   "outputs": [],
   "source": [
    "import pandas as pd\n",
    "import numpy as np\n",
    "from sklearn.ensemble import GradientBoostingClassifier\n",
    "from sklearn.model_selection import TimeSeriesSplit, GridSearchCV\n",
    "from sklearn.metrics import confusion_matrix, accuracy_score, make_scorer"
   ]
  },
  {
   "cell_type": "code",
   "execution_count": 4,
   "metadata": {},
   "outputs": [
    {
     "name": "stdout",
     "output_type": "stream",
     "text": [
      "Fitting 632 folds for each of 2 candidates, totalling 1264 fits\n",
      "Best Hyperparameters: {'learning_rate': 0.1, 'max_depth': 5, 'min_samples_leaf': 1, 'n_estimators': 20, 'subsample': 0.75}\n",
      "Accuracy of the Best Hyperparameters: 0.4778\n"
     ]
    }
   ],
   "source": [
    "# Set up the parameter grid for grid search\n",
    "param_grid = {\n",
    "    'n_estimators': [10, 20],\n",
    "    'learning_rate': [0.1],\n",
    "    'subsample': [0.75],\n",
    "    'max_depth': [5],\n",
    "    'min_samples_leaf': [1]\n",
    "}\n",
    "\n",
    "# param_grid = {\n",
    "#     'n_estimators': [50],\n",
    "#     'learning_rate': [0.3],\n",
    "#     'subsample': [0.75],\n",
    "#     'max_depth': [5,15],\n",
    "#     'min_samples_leaf': [5]\n",
    "# }\n",
    "\n",
    "# Initialize the Gradient Boosting Classifier\n",
    "gbm = GradientBoostingClassifier(random_state=248)\n",
    "\n",
    "\n",
    "ys = []\n",
    "\n",
    "def Acc_Score(y_true,y_pred):\n",
    "    global ys\n",
    "    ys.append(y_pred)\n",
    "    acc = accuracy_score(y_true, y_pred)    \n",
    "    return acc\n",
    "\n",
    "def scorer():\n",
    "    return make_scorer(Acc_Score, greater_is_better=True)\n",
    "\n",
    "# Create the time series split for cross-validation\n",
    "tscv = TimeSeriesSplit(n_splits=903 - 631, test_size=1,gap=0, max_train_size=None)\n",
    "\n",
    "# Perform grid search with cross-validation\n",
    "grid_search = GridSearchCV(gbm, param_grid, cv=tscv, scoring=scorer(), verbose=1, n_jobs=-1)\n",
    "grid_search.fit(X, y)\n",
    "\n",
    "# Get the best model from the grid search\n",
    "best_gbm = grid_search.best_estimator_\n",
    "\n",
    "cv_results = pd.DataFrame(grid_search.cv_results_)\n",
    "\n",
    "# Print the best hyperparameters\n",
    "print(\"Best Hyperparameters:\", grid_search.best_params_)\n",
    "print(f'Accuracy of the Best Hyperparameters: {grid_search.best_score_:.4f}')"
   ]
  },
  {
   "cell_type": "code",
   "execution_count": 9,
   "metadata": {},
   "outputs": [],
   "source": [
    "param_grid2 = {\n",
    "    'n_estimators': [20],\n",
    "    'learning_rate': [0.1],\n",
    "    'subsample': [0.75],\n",
    "    'max_depth': [5],\n",
    "    'min_samples_leaf': [1]\n",
    "}\n"
   ]
  },
  {
   "cell_type": "code",
   "execution_count": 10,
   "metadata": {},
   "outputs": [
    {
     "name": "stdout",
     "output_type": "stream",
     "text": [
      "Fitting 632 folds for each of 1 candidates, totalling 632 fits\n",
      "Best Hyperparameters: {'learning_rate': 0.1, 'max_depth': 5, 'min_samples_leaf': 1, 'n_estimators': 20, 'subsample': 0.75}\n",
      "Accuracy of the Best Hyperparameters: 0.4778\n"
     ]
    }
   ],
   "source": [
    "\n",
    "# Perform grid search with cross-validation\n",
    "grid_search2 = GridSearchCV(gbm,param_grid2, cv=tscv, scoring=scorer(), verbose=1)#, n_jobs=-1)\n",
    "grid_search2.fit(X, y)\n",
    "# Get the best model from the grid search\n",
    "best_gbm2 = grid_search2.best_estimator_\n",
    "\n",
    "cv_results2 = pd.DataFrame(grid_search2.cv_results_)\n",
    "\n",
    "# Print the best hyperparameters\n",
    "print(\"Best Hyperparameters:\", grid_search2.best_params_)\n",
    "print(f'Accuracy of the Best Hyperparameters: {grid_search2.best_score_:.4f}')"
   ]
  },
  {
   "cell_type": "code",
   "execution_count": 12,
   "metadata": {},
   "outputs": [],
   "source": [
    "# compare cv_results\n",
    "check1 = cv_results.loc[1,'split0_test_score':]\n",
    "check2 = cv_results2.loc[0,'split0_test_score':]"
   ]
  },
  {
   "cell_type": "code",
   "execution_count": 15,
   "metadata": {},
   "outputs": [
    {
     "data": {
      "text/plain": [
       "True"
      ]
     },
     "execution_count": 15,
     "metadata": {},
     "output_type": "execute_result"
    }
   ],
   "source": [
    "check1.equals(check2)"
   ]
  }
 ],
 "metadata": {
  "kernelspec": {
   "display_name": "Python 3",
   "language": "python",
   "name": "python3"
  },
  "language_info": {
   "codemirror_mode": {
    "name": "ipython",
    "version": 3
   },
   "file_extension": ".py",
   "mimetype": "text/x-python",
   "name": "python",
   "nbconvert_exporter": "python",
   "pygments_lexer": "ipython3",
   "version": "3.11.3"
  }
 },
 "nbformat": 4,
 "nbformat_minor": 2
}
