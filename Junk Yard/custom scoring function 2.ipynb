{
 "cells": [
  {
   "cell_type": "code",
   "execution_count": 9,
   "metadata": {},
   "outputs": [
    {
     "name": "stdout",
     "output_type": "stream",
     "text": [
      "Fitting 60 folds for each of 8 candidates, totalling 480 fits\n"
     ]
    },
    {
     "name": "stderr",
     "output_type": "stream",
     "text": [
      "c:\\Users\\dstoc\\AppData\\Local\\Programs\\Python\\Python311\\Lib\\site-packages\\sklearn\\model_selection\\_search.py:976: UserWarning: One or more of the test scores are non-finite: [nan nan nan nan nan nan nan nan]\n",
      "  warnings.warn(\n"
     ]
    }
   ],
   "source": [
    "import numpy as np\n",
    "import pandas as pd\n",
    "from sklearn.model_selection import TimeSeriesSplit, GridSearchCV\n",
    "from sklearn.ensemble import GradientBoostingClassifier\n",
    "from sklearn.metrics import make_scorer,accuracy_score\n",
    "\n",
    "X, y = np.random.rand(2,200)\n",
    "y = np.where(y < 0.5, 'LONG', 'SHORT')\n",
    "gbm =  GradientBoostingClassifier(random_state=248)\n",
    "\n",
    "# Set up the parameter grid for grid search\n",
    "param_grid = {\n",
    "    'n_estimators': [50, 100],\n",
    "    'learning_rate': [0.1, 0.3],\n",
    "    'subsample': [1],\n",
    "    'max_depth': [3, 8],\n",
    "    'min_samples_leaf': [5]\n",
    "}\n",
    "\n",
    "# Define the initial training size (e.g., 70% of the data)\n",
    "initial_train_size = int(0.9 * len(y))\n",
    "\n",
    "# Create the time series split for cross-validation\n",
    "tscv = TimeSeriesSplit(n_splits=len(y) - initial_train_size, test_size=1,gap=0, max_train_size=None)\n",
    "\n",
    "\n",
    "ys = []\n",
    "\n",
    "def Acc_Score(y_true,y_pred):\n",
    "    global ys\n",
    "    ys.append(y_pred)\n",
    "    acc = accuracy_score(y_true, y_pred)\n",
    "    return acc\n",
    "\n",
    "def my_scorer():\n",
    "    return make_scorer(Acc_Score, greater_is_better=True)\n",
    "\n",
    "cv = GridSearchCV(gbm, param_grid, cv=tscv, scoring=my_scorer, verbose=1, n_jobs=-1)\n",
    "cv.fit(X.reshape(-1, 1), y)\n",
    "\n",
    "cv_results = pd.DataFrame(cv.cv_results_)"
   ]
  },
  {
   "cell_type": "code",
   "execution_count": 21,
   "metadata": {},
   "outputs": [
    {
     "name": "stdout",
     "output_type": "stream",
     "text": [
      "Fitting 20 folds for each of 8 candidates, totalling 160 fits\n"
     ]
    }
   ],
   "source": [
    "import numpy as np\n",
    "import pandas as pd\n",
    "from sklearn.model_selection import TimeSeriesSplit, GridSearchCV\n",
    "from sklearn.ensemble import GradientBoostingClassifier\n",
    "from sklearn.metrics import make_scorer, accuracy_score\n",
    "\n",
    "X, y = np.random.rand(2, 200)\n",
    "y = np.where(y < 0.5, 'LONG', 'SHORT')\n",
    "gbm = GradientBoostingClassifier(random_state=248)\n",
    "\n",
    "# Set up the parameter grid for grid search\n",
    "param_grid = {\n",
    "    'n_estimators': [50, 100],\n",
    "    'learning_rate': [0.1, 0.3],\n",
    "    'subsample': [1],\n",
    "    'max_depth': [3, 8],\n",
    "    'min_samples_leaf': [5]\n",
    "}\n",
    "\n",
    "# Define the initial training size (e.g., 70% of the data)\n",
    "initial_train_size = int(0.9 * len(y))\n",
    "\n",
    "# Create the time series split for cross-validation\n",
    "tscv = TimeSeriesSplit(n_splits=len(y) - initial_train_size, test_size=1, gap=0, max_train_size=None)\n",
    "\n",
    "ys = []\n",
    "\n",
    "\n",
    "def Acc_Score(y_true,y_pred):\n",
    "    global ys\n",
    "    ys.append(y_pred)\n",
    "    acc = accuracy_score(y_true, y_pred)    \n",
    "    return acc\n",
    "\n",
    "\n",
    "def my_scorer():\n",
    "    return make_scorer(Acc_Score, greater_is_better=True)\n",
    "\n",
    "cv = GridSearchCV(gbm, param_grid, cv=tscv, scoring=my_scorer(), verbose=1, n_jobs=-1)\n",
    "cv.fit(X.reshape(-1, 1), y)\n",
    "\n",
    "cv_results = pd.DataFrame(cv.cv_results_)\n"
   ]
  },
  {
   "cell_type": "code",
   "execution_count": 22,
   "metadata": {},
   "outputs": [
    {
     "data": {
      "text/plain": [
       "[]"
      ]
     },
     "execution_count": 22,
     "metadata": {},
     "output_type": "execute_result"
    }
   ],
   "source": [
    "ys"
   ]
  },
  {
   "cell_type": "code",
   "execution_count": 30,
   "metadata": {},
   "outputs": [
    {
     "name": "stdout",
     "output_type": "stream",
     "text": [
      "Fitting 20 folds for each of 8 candidates, totalling 160 fits\n"
     ]
    }
   ],
   "source": [
    "import numpy as np\n",
    "import pandas as pd\n",
    "from sklearn.model_selection import TimeSeriesSplit, GridSearchCV\n",
    "from sklearn.ensemble import GradientBoostingClassifier\n",
    "from sklearn.metrics import make_scorer, accuracy_score\n",
    "\n",
    "X, y = np.random.rand(2, 200)\n",
    "y = np.where(y < 0.5, 'LONG', 'SHORT')\n",
    "gbm = GradientBoostingClassifier(random_state=248)\n",
    "\n",
    "# Set up the parameter grid for grid search\n",
    "param_grid = {\n",
    "    'n_estimators': [50, 100],\n",
    "    'learning_rate': [0.1, 0.3],\n",
    "    'subsample': [1],\n",
    "    'max_depth': [3, 8],\n",
    "    'min_samples_leaf': [5]\n",
    "}\n",
    "\n",
    "# Define the initial training size (e.g., 70% of the data)\n",
    "initial_train_size = int(0.9 * len(y))\n",
    "\n",
    "# Create the time series split for cross-validation\n",
    "tscv = TimeSeriesSplit(n_splits=len(y) - initial_train_size, test_size=1, gap=0, max_train_size=None)\n",
    "\n",
    "ys = []\n",
    "\n",
    "def Acc_Score(y_true,y_pred):\n",
    "    global ys\n",
    "    ys.append(y_pred)\n",
    "    acc = accuracy_score(y_true, y_pred)    \n",
    "    return acc\n",
    "\n",
    "\n",
    "def my_scorer():\n",
    "    return make_scorer(Acc_Score, greater_is_better=True)\n",
    "\n",
    "cv = GridSearchCV(gbm, param_grid, cv=tscv, scoring=my_scorer(), verbose=1, n_jobs=-1)\n",
    "cv.fit(X.reshape(-1, 1), y)\n",
    "\n",
    "cv_results = pd.DataFrame(cv.cv_results_)\n"
   ]
  },
  {
   "cell_type": "code",
   "execution_count": 34,
   "metadata": {},
   "outputs": [
    {
     "data": {
      "text/plain": [
       "0.79"
      ]
     },
     "execution_count": 34,
     "metadata": {},
     "output_type": "execute_result"
    }
   ],
   "source": [
    "Acc_Score(y, cv.predict(X.reshape(-1, 1)))"
   ]
  },
  {
   "cell_type": "code",
   "execution_count": 31,
   "metadata": {},
   "outputs": [
    {
     "data": {
      "text/plain": [
       "[]"
      ]
     },
     "execution_count": 31,
     "metadata": {},
     "output_type": "execute_result"
    }
   ],
   "source": [
    "ys"
   ]
  },
  {
   "cell_type": "code",
   "execution_count": 28,
   "metadata": {},
   "outputs": [
    {
     "data": {
      "text/html": [
       "<style>#sk-container-id-1 {color: black;}#sk-container-id-1 pre{padding: 0;}#sk-container-id-1 div.sk-toggleable {background-color: white;}#sk-container-id-1 label.sk-toggleable__label {cursor: pointer;display: block;width: 100%;margin-bottom: 0;padding: 0.3em;box-sizing: border-box;text-align: center;}#sk-container-id-1 label.sk-toggleable__label-arrow:before {content: \"▸\";float: left;margin-right: 0.25em;color: #696969;}#sk-container-id-1 label.sk-toggleable__label-arrow:hover:before {color: black;}#sk-container-id-1 div.sk-estimator:hover label.sk-toggleable__label-arrow:before {color: black;}#sk-container-id-1 div.sk-toggleable__content {max-height: 0;max-width: 0;overflow: hidden;text-align: left;background-color: #f0f8ff;}#sk-container-id-1 div.sk-toggleable__content pre {margin: 0.2em;color: black;border-radius: 0.25em;background-color: #f0f8ff;}#sk-container-id-1 input.sk-toggleable__control:checked~div.sk-toggleable__content {max-height: 200px;max-width: 100%;overflow: auto;}#sk-container-id-1 input.sk-toggleable__control:checked~label.sk-toggleable__label-arrow:before {content: \"▾\";}#sk-container-id-1 div.sk-estimator input.sk-toggleable__control:checked~label.sk-toggleable__label {background-color: #d4ebff;}#sk-container-id-1 div.sk-label input.sk-toggleable__control:checked~label.sk-toggleable__label {background-color: #d4ebff;}#sk-container-id-1 input.sk-hidden--visually {border: 0;clip: rect(1px 1px 1px 1px);clip: rect(1px, 1px, 1px, 1px);height: 1px;margin: -1px;overflow: hidden;padding: 0;position: absolute;width: 1px;}#sk-container-id-1 div.sk-estimator {font-family: monospace;background-color: #f0f8ff;border: 1px dotted black;border-radius: 0.25em;box-sizing: border-box;margin-bottom: 0.5em;}#sk-container-id-1 div.sk-estimator:hover {background-color: #d4ebff;}#sk-container-id-1 div.sk-parallel-item::after {content: \"\";width: 100%;border-bottom: 1px solid gray;flex-grow: 1;}#sk-container-id-1 div.sk-label:hover label.sk-toggleable__label {background-color: #d4ebff;}#sk-container-id-1 div.sk-serial::before {content: \"\";position: absolute;border-left: 1px solid gray;box-sizing: border-box;top: 0;bottom: 0;left: 50%;z-index: 0;}#sk-container-id-1 div.sk-serial {display: flex;flex-direction: column;align-items: center;background-color: white;padding-right: 0.2em;padding-left: 0.2em;position: relative;}#sk-container-id-1 div.sk-item {position: relative;z-index: 1;}#sk-container-id-1 div.sk-parallel {display: flex;align-items: stretch;justify-content: center;background-color: white;position: relative;}#sk-container-id-1 div.sk-item::before, #sk-container-id-1 div.sk-parallel-item::before {content: \"\";position: absolute;border-left: 1px solid gray;box-sizing: border-box;top: 0;bottom: 0;left: 50%;z-index: -1;}#sk-container-id-1 div.sk-parallel-item {display: flex;flex-direction: column;z-index: 1;position: relative;background-color: white;}#sk-container-id-1 div.sk-parallel-item:first-child::after {align-self: flex-end;width: 50%;}#sk-container-id-1 div.sk-parallel-item:last-child::after {align-self: flex-start;width: 50%;}#sk-container-id-1 div.sk-parallel-item:only-child::after {width: 0;}#sk-container-id-1 div.sk-dashed-wrapped {border: 1px dashed gray;margin: 0 0.4em 0.5em 0.4em;box-sizing: border-box;padding-bottom: 0.4em;background-color: white;}#sk-container-id-1 div.sk-label label {font-family: monospace;font-weight: bold;display: inline-block;line-height: 1.2em;}#sk-container-id-1 div.sk-label-container {text-align: center;}#sk-container-id-1 div.sk-container {/* jupyter's `normalize.less` sets `[hidden] { display: none; }` but bootstrap.min.css set `[hidden] { display: none !important; }` so we also need the `!important` here to be able to override the default hidden behavior on the sphinx rendered scikit-learn.org. See: https://github.com/scikit-learn/scikit-learn/issues/21755 */display: inline-block !important;position: relative;}#sk-container-id-1 div.sk-text-repr-fallback {display: none;}</style><div id=\"sk-container-id-1\" class=\"sk-top-container\"><div class=\"sk-text-repr-fallback\"><pre>GridSearchCV(cv=3, estimator=SVR(), param_grid={&#x27;degree&#x27;: [1, 2, 3]},\n",
       "             scoring=make_scorer(MSE, greater_is_better=False))</pre><b>In a Jupyter environment, please rerun this cell to show the HTML representation or trust the notebook. <br />On GitHub, the HTML representation is unable to render, please try loading this page with nbviewer.org.</b></div><div class=\"sk-container\" hidden><div class=\"sk-item sk-dashed-wrapped\"><div class=\"sk-label-container\"><div class=\"sk-label sk-toggleable\"><input class=\"sk-toggleable__control sk-hidden--visually\" id=\"sk-estimator-id-1\" type=\"checkbox\" ><label for=\"sk-estimator-id-1\" class=\"sk-toggleable__label sk-toggleable__label-arrow\">GridSearchCV</label><div class=\"sk-toggleable__content\"><pre>GridSearchCV(cv=3, estimator=SVR(), param_grid={&#x27;degree&#x27;: [1, 2, 3]},\n",
       "             scoring=make_scorer(MSE, greater_is_better=False))</pre></div></div></div><div class=\"sk-parallel\"><div class=\"sk-parallel-item\"><div class=\"sk-item\"><div class=\"sk-label-container\"><div class=\"sk-label sk-toggleable\"><input class=\"sk-toggleable__control sk-hidden--visually\" id=\"sk-estimator-id-2\" type=\"checkbox\" ><label for=\"sk-estimator-id-2\" class=\"sk-toggleable__label sk-toggleable__label-arrow\">estimator: SVR</label><div class=\"sk-toggleable__content\"><pre>SVR()</pre></div></div></div><div class=\"sk-serial\"><div class=\"sk-item\"><div class=\"sk-estimator sk-toggleable\"><input class=\"sk-toggleable__control sk-hidden--visually\" id=\"sk-estimator-id-3\" type=\"checkbox\" ><label for=\"sk-estimator-id-3\" class=\"sk-toggleable__label sk-toggleable__label-arrow\">SVR</label><div class=\"sk-toggleable__content\"><pre>SVR()</pre></div></div></div></div></div></div></div></div></div></div>"
      ],
      "text/plain": [
       "GridSearchCV(cv=3, estimator=SVR(), param_grid={'degree': [1, 2, 3]},\n",
       "             scoring=make_scorer(MSE, greater_is_better=False))"
      ]
     },
     "execution_count": 28,
     "metadata": {},
     "output_type": "execute_result"
    }
   ],
   "source": [
    "import numpy as np\n",
    "from sklearn.model_selection import GridSearchCV\n",
    "from sklearn.svm import SVR\n",
    "from sklearn.metrics import mean_squared_error,make_scorer\n",
    "\n",
    "X, y = np.random.rand(2,200)\n",
    "clf = SVR()\n",
    "\n",
    "ys = []\n",
    "\n",
    "def MSE(y_true,y_pred):\n",
    "    global ys\n",
    "    ys.append(y_pred)\n",
    "    mse = mean_squared_error(y_true, y_pred)\n",
    "    return mse\n",
    "\n",
    "def scorer():\n",
    "    return make_scorer(MSE, greater_is_better=False)\n",
    "\n",
    "n_splits = 3 \n",
    "cv = GridSearchCV(clf, {'degree':[1,2,3]}, scoring=scorer(), cv=n_splits)\n",
    "cv.fit(X.reshape(-1, 1), y)"
   ]
  },
  {
   "cell_type": "code",
   "execution_count": 29,
   "metadata": {},
   "outputs": [
    {
     "data": {
      "text/plain": [
       "[array([0.50565884, 0.60030812, 0.63007438, 0.50984174, 0.51445098,\n",
       "        0.45233163, 0.50574653, 0.44778066, 0.59611894, 0.51100297,\n",
       "        0.51178734, 0.62343692, 0.48883868, 0.51062438, 0.40221602,\n",
       "        0.50944617, 0.52774238, 0.62444783, 0.39379995, 0.44352542,\n",
       "        0.59237667, 0.47533901, 0.57282692, 0.5006682 , 0.49553669,\n",
       "        0.3831702 , 0.59645222, 0.63005143, 0.48879473, 0.51531432,\n",
       "        0.46613859, 0.53189648, 0.46509477, 0.386565  , 0.63007436,\n",
       "        0.54368883, 0.62966259, 0.50734538, 0.61340694, 0.48377247,\n",
       "        0.6151326 , 0.54601532, 0.49010924, 0.512372  , 0.61789531,\n",
       "        0.52922906, 0.58993632, 0.44418884, 0.49262572, 0.47145747,\n",
       "        0.51265417, 0.51660442, 0.5562679 , 0.49402823, 0.5189675 ,\n",
       "        0.42463447, 0.39517416, 0.5441005 , 0.42076152, 0.43956705,\n",
       "        0.38293829, 0.37783485, 0.38670544, 0.4257098 , 0.60350356,\n",
       "        0.48201733, 0.41930936]),\n",
       " array([0.45584266, 0.57570549, 0.33942495, 0.34986769, 0.41962465,\n",
       "        0.3404775 , 0.5825183 , 0.42334846, 0.40654036, 0.35412641,\n",
       "        0.60924932, 0.55051451, 0.34385772, 0.57570319, 0.58321725,\n",
       "        0.41230548, 0.44522093, 0.49246606, 0.53466818, 0.58182994,\n",
       "        0.40651305, 0.42693121, 0.35533005, 0.47544874, 0.50857248,\n",
       "        0.35118126, 0.47240163, 0.45194212, 0.54455706, 0.59837709,\n",
       "        0.60029474, 0.5166273 , 0.53988259, 0.43814   , 0.5842959 ,\n",
       "        0.44279035, 0.57588753, 0.52553466, 0.34252972, 0.56403684,\n",
       "        0.61961657, 0.34111643, 0.54926533, 0.5166861 , 0.41786093,\n",
       "        0.45130758, 0.34547453, 0.34933487, 0.54108356, 0.34936178,\n",
       "        0.52341547, 0.46660792, 0.57622752, 0.43100752, 0.41094388,\n",
       "        0.54667707, 0.53006211, 0.35668082, 0.4811257 , 0.4311274 ,\n",
       "        0.53101466, 0.45442981, 0.36859213, 0.58154487, 0.61657121,\n",
       "        0.56664146, 0.44323862]),\n",
       " array([0.44265461, 0.39094619, 0.44662174, 0.49695189, 0.39798487,\n",
       "        0.49036449, 0.50191095, 0.37807813, 0.48088602, 0.35773552,\n",
       "        0.45667703, 0.50246334, 0.49254731, 0.4257119 , 0.35728714,\n",
       "        0.46106053, 0.50203359, 0.47654604, 0.45134154, 0.44879354,\n",
       "        0.48432182, 0.35569706, 0.47871811, 0.46170219, 0.45971294,\n",
       "        0.44779412, 0.50089397, 0.41079667, 0.35373859, 0.34716549,\n",
       "        0.34715033, 0.44317389, 0.36700066, 0.48480135, 0.50483438,\n",
       "        0.39382621, 0.4839359 , 0.40886501, 0.3473829 , 0.46719364,\n",
       "        0.35432954, 0.42304751, 0.4404328 , 0.4001206 , 0.34829936,\n",
       "        0.35559949, 0.37562024, 0.49611338, 0.35951564, 0.48952431,\n",
       "        0.43127121, 0.48204748, 0.43820904, 0.44715844, 0.44657483,\n",
       "        0.37035287, 0.45115716, 0.35356188, 0.43459975, 0.4559615 ,\n",
       "        0.38579559, 0.47156758, 0.50259889, 0.44868765, 0.36665948,\n",
       "        0.42098082]),\n",
       " array([0.50565884, 0.60030812, 0.63007438, 0.50984174, 0.51445098,\n",
       "        0.45233163, 0.50574653, 0.44778066, 0.59611894, 0.51100297,\n",
       "        0.51178734, 0.62343692, 0.48883868, 0.51062438, 0.40221602,\n",
       "        0.50944617, 0.52774238, 0.62444783, 0.39379995, 0.44352542,\n",
       "        0.59237667, 0.47533901, 0.57282692, 0.5006682 , 0.49553669,\n",
       "        0.3831702 , 0.59645222, 0.63005143, 0.48879473, 0.51531432,\n",
       "        0.46613859, 0.53189648, 0.46509477, 0.386565  , 0.63007436,\n",
       "        0.54368883, 0.62966259, 0.50734538, 0.61340694, 0.48377247,\n",
       "        0.6151326 , 0.54601532, 0.49010924, 0.512372  , 0.61789531,\n",
       "        0.52922906, 0.58993632, 0.44418884, 0.49262572, 0.47145747,\n",
       "        0.51265417, 0.51660442, 0.5562679 , 0.49402823, 0.5189675 ,\n",
       "        0.42463447, 0.39517416, 0.5441005 , 0.42076152, 0.43956705,\n",
       "        0.38293829, 0.37783485, 0.38670544, 0.4257098 , 0.60350356,\n",
       "        0.48201733, 0.41930936]),\n",
       " array([0.45584266, 0.57570549, 0.33942495, 0.34986769, 0.41962465,\n",
       "        0.3404775 , 0.5825183 , 0.42334846, 0.40654036, 0.35412641,\n",
       "        0.60924932, 0.55051451, 0.34385772, 0.57570319, 0.58321725,\n",
       "        0.41230548, 0.44522093, 0.49246606, 0.53466818, 0.58182994,\n",
       "        0.40651305, 0.42693121, 0.35533005, 0.47544874, 0.50857248,\n",
       "        0.35118126, 0.47240163, 0.45194212, 0.54455706, 0.59837709,\n",
       "        0.60029474, 0.5166273 , 0.53988259, 0.43814   , 0.5842959 ,\n",
       "        0.44279035, 0.57588753, 0.52553466, 0.34252972, 0.56403684,\n",
       "        0.61961657, 0.34111643, 0.54926533, 0.5166861 , 0.41786093,\n",
       "        0.45130758, 0.34547453, 0.34933487, 0.54108356, 0.34936178,\n",
       "        0.52341547, 0.46660792, 0.57622752, 0.43100752, 0.41094388,\n",
       "        0.54667707, 0.53006211, 0.35668082, 0.4811257 , 0.4311274 ,\n",
       "        0.53101466, 0.45442981, 0.36859213, 0.58154487, 0.61657121,\n",
       "        0.56664146, 0.44323862]),\n",
       " array([0.44265461, 0.39094619, 0.44662174, 0.49695189, 0.39798487,\n",
       "        0.49036449, 0.50191095, 0.37807813, 0.48088602, 0.35773552,\n",
       "        0.45667703, 0.50246334, 0.49254731, 0.4257119 , 0.35728714,\n",
       "        0.46106053, 0.50203359, 0.47654604, 0.45134154, 0.44879354,\n",
       "        0.48432182, 0.35569706, 0.47871811, 0.46170219, 0.45971294,\n",
       "        0.44779412, 0.50089397, 0.41079667, 0.35373859, 0.34716549,\n",
       "        0.34715033, 0.44317389, 0.36700066, 0.48480135, 0.50483438,\n",
       "        0.39382621, 0.4839359 , 0.40886501, 0.3473829 , 0.46719364,\n",
       "        0.35432954, 0.42304751, 0.4404328 , 0.4001206 , 0.34829936,\n",
       "        0.35559949, 0.37562024, 0.49611338, 0.35951564, 0.48952431,\n",
       "        0.43127121, 0.48204748, 0.43820904, 0.44715844, 0.44657483,\n",
       "        0.37035287, 0.45115716, 0.35356188, 0.43459975, 0.4559615 ,\n",
       "        0.38579559, 0.47156758, 0.50259889, 0.44868765, 0.36665948,\n",
       "        0.42098082]),\n",
       " array([0.50565884, 0.60030812, 0.63007438, 0.50984174, 0.51445098,\n",
       "        0.45233163, 0.50574653, 0.44778066, 0.59611894, 0.51100297,\n",
       "        0.51178734, 0.62343692, 0.48883868, 0.51062438, 0.40221602,\n",
       "        0.50944617, 0.52774238, 0.62444783, 0.39379995, 0.44352542,\n",
       "        0.59237667, 0.47533901, 0.57282692, 0.5006682 , 0.49553669,\n",
       "        0.3831702 , 0.59645222, 0.63005143, 0.48879473, 0.51531432,\n",
       "        0.46613859, 0.53189648, 0.46509477, 0.386565  , 0.63007436,\n",
       "        0.54368883, 0.62966259, 0.50734538, 0.61340694, 0.48377247,\n",
       "        0.6151326 , 0.54601532, 0.49010924, 0.512372  , 0.61789531,\n",
       "        0.52922906, 0.58993632, 0.44418884, 0.49262572, 0.47145747,\n",
       "        0.51265417, 0.51660442, 0.5562679 , 0.49402823, 0.5189675 ,\n",
       "        0.42463447, 0.39517416, 0.5441005 , 0.42076152, 0.43956705,\n",
       "        0.38293829, 0.37783485, 0.38670544, 0.4257098 , 0.60350356,\n",
       "        0.48201733, 0.41930936]),\n",
       " array([0.45584266, 0.57570549, 0.33942495, 0.34986769, 0.41962465,\n",
       "        0.3404775 , 0.5825183 , 0.42334846, 0.40654036, 0.35412641,\n",
       "        0.60924932, 0.55051451, 0.34385772, 0.57570319, 0.58321725,\n",
       "        0.41230548, 0.44522093, 0.49246606, 0.53466818, 0.58182994,\n",
       "        0.40651305, 0.42693121, 0.35533005, 0.47544874, 0.50857248,\n",
       "        0.35118126, 0.47240163, 0.45194212, 0.54455706, 0.59837709,\n",
       "        0.60029474, 0.5166273 , 0.53988259, 0.43814   , 0.5842959 ,\n",
       "        0.44279035, 0.57588753, 0.52553466, 0.34252972, 0.56403684,\n",
       "        0.61961657, 0.34111643, 0.54926533, 0.5166861 , 0.41786093,\n",
       "        0.45130758, 0.34547453, 0.34933487, 0.54108356, 0.34936178,\n",
       "        0.52341547, 0.46660792, 0.57622752, 0.43100752, 0.41094388,\n",
       "        0.54667707, 0.53006211, 0.35668082, 0.4811257 , 0.4311274 ,\n",
       "        0.53101466, 0.45442981, 0.36859213, 0.58154487, 0.61657121,\n",
       "        0.56664146, 0.44323862]),\n",
       " array([0.44265461, 0.39094619, 0.44662174, 0.49695189, 0.39798487,\n",
       "        0.49036449, 0.50191095, 0.37807813, 0.48088602, 0.35773552,\n",
       "        0.45667703, 0.50246334, 0.49254731, 0.4257119 , 0.35728714,\n",
       "        0.46106053, 0.50203359, 0.47654604, 0.45134154, 0.44879354,\n",
       "        0.48432182, 0.35569706, 0.47871811, 0.46170219, 0.45971294,\n",
       "        0.44779412, 0.50089397, 0.41079667, 0.35373859, 0.34716549,\n",
       "        0.34715033, 0.44317389, 0.36700066, 0.48480135, 0.50483438,\n",
       "        0.39382621, 0.4839359 , 0.40886501, 0.3473829 , 0.46719364,\n",
       "        0.35432954, 0.42304751, 0.4404328 , 0.4001206 , 0.34829936,\n",
       "        0.35559949, 0.37562024, 0.49611338, 0.35951564, 0.48952431,\n",
       "        0.43127121, 0.48204748, 0.43820904, 0.44715844, 0.44657483,\n",
       "        0.37035287, 0.45115716, 0.35356188, 0.43459975, 0.4559615 ,\n",
       "        0.38579559, 0.47156758, 0.50259889, 0.44868765, 0.36665948,\n",
       "        0.42098082])]"
      ]
     },
     "execution_count": 29,
     "metadata": {},
     "output_type": "execute_result"
    }
   ],
   "source": [
    "ys"
   ]
  }
 ],
 "metadata": {
  "kernelspec": {
   "display_name": "Python 3",
   "language": "python",
   "name": "python3"
  },
  "language_info": {
   "codemirror_mode": {
    "name": "ipython",
    "version": 3
   },
   "file_extension": ".py",
   "mimetype": "text/x-python",
   "name": "python",
   "nbconvert_exporter": "python",
   "pygments_lexer": "ipython3",
   "version": "3.11.3"
  }
 },
 "nbformat": 4,
 "nbformat_minor": 2
}
