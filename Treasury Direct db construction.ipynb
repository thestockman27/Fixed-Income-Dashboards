{
 "cells": [
  {
   "cell_type": "code",
   "execution_count": 3,
   "metadata": {},
   "outputs": [],
   "source": [
    "import pandas as pd\n",
    "import requests\n",
    "import sqlite3\n",
    "\n",
    "# JSON URL\n",
    "json_url = \"https://api.fiscaldata.treasury.gov/services/api/fiscal_service/v1/accounting/od/auctions_query\"\n",
    "\n",
    "# Send a GET request to the JSON URL\n",
    "response = requests.get(json_url)\n",
    "\n",
    "# Check if the request was successful (status code 200)\n",
    "if response.status_code == 200:\n",
    "    # Load JSON data into a Python dictionary\n",
    "    data = response.json()\n",
    "\n",
    "    # Extract the data field from the response\n",
    "    json_data = data.get('data', [])\n",
    "\n",
    "    # Convert JSON data to DataFrame\n",
    "    new_df = pd.DataFrame(json_data)\n",
    "\n",
    "    # Convert date columns to datetime format\n",
    "    date_columns = ['auction_date', 'issue_date', 'maturity_date', 'call_date', 'announcemt_date', 'frn_index_determination_date', 'mat_date', 'first_int_payment_date']\n",
    "    new_df[date_columns] = new_df[date_columns].apply(pd.to_datetime, errors='coerce')\n",
    "\n",
    "    # Convert numeric columns to numeric\n",
    "    numeric_columns = ['price_per100', 'accrued_int_per100', 'accrued_int_per1000', 'adj_accrued_int_per1000', 'allocation_pctage', 'avg_med_discnt_rate', 'avg_med_investment_rate', 'avg_med_price', 'avg_med_discnt_margin', 'avg_med_yield', 'bid_to_cover_ratio', 'comp_accepted', 'comp_bid_decimals', 'comp_tendered', 'corpus_cusip', 'currently_outstanding', 'direct_bidder_accepted', 'direct_bidder_tendered', 'est_pub_held_mat_by_type_amt', 'fima_noncomp_accepted', 'fima_noncomp_tendered', 'high_discnt_rate', 'high_investment_rate', 'high_price', 'high_discnt_margin', 'high_yield', 'index_ratio_on_issue_date', 'indirect_bidder_accepted', 'indirect_bidder_tendered', 'int_rate', 'low_discnt_rate', 'low_investment_rate', 'low_price', 'low_discnt_margin', 'low_yield', 'max_comp_award', 'max_noncomp_award', 'max_single_bid', 'min_bid_amt', 'min_strip_amt', 'min_to_issue', 'multiples_to_bid', 'multiples_to_issue', 'nlp_exclusion_amt', 'nlp_reporting_threshold', 'noncomp_accepted', 'noncomp_tenders_accepted', 'original_cusip', 'original_security_term', 'primary_dealer_accepted', 'primary_dealer_tendered', 'ref_cpi_on_dated_date', 'ref_cpi_on_issue_date', 'spread', 'std_int_payment_per1000', 'total_accepted', 'total_tendered', 'treas_retail_accepted', 'treas_retail_tenders_accepted', 'unadj_accrued_int_per1000', 'unadj_price', 'inflation_index_security']\n",
    "    new_df[numeric_columns] = new_df[numeric_columns].apply(pd.to_numeric, errors='coerce')\n",
    "\n"
   ]
  },
  {
   "cell_type": "code",
   "execution_count": null,
   "metadata": {},
   "outputs": [],
   "source": [
    "\n",
    "    # Create a SQLite connection and a cursor\n",
    "    conn = sqlite3.connect('FED_Data.db')\n",
    "    cursor = conn.cursor()\n",
    "\n",
    "    # Store the new DataFrame as a table\n",
    "    new_df.to_sql('Treasury Auctions', conn, index=False, if_exists='replace')\n",
    "\n",
    "    # Commit the changes and close the connection\n",
    "    conn.commit()\n",
    "    conn.close()\n",
    "\n",
    "else:\n",
    "    print(f\"Failed to fetch data. Status code: {response.status_code}\")\n"
   ]
  }
 ],
 "metadata": {
  "kernelspec": {
   "display_name": "Python 3",
   "language": "python",
   "name": "python3"
  },
  "language_info": {
   "codemirror_mode": {
    "name": "ipython",
    "version": 3
   },
   "file_extension": ".py",
   "mimetype": "text/x-python",
   "name": "python",
   "nbconvert_exporter": "python",
   "pygments_lexer": "ipython3",
   "version": "3.11.3"
  }
 },
 "nbformat": 4,
 "nbformat_minor": 2
}
