{
 "cells": [
  {
   "cell_type": "code",
   "execution_count": 3,
   "metadata": {},
   "outputs": [],
   "source": [
    "import numpy as np\n",
    "import pandas as pd\n",
    "import statsmodels.api as sm\n",
    "from statsmodels.tsa.stattools import grangercausalitytests\n",
    "from statsmodels.tsa.stattools import acf, pacf\n",
    "from statsmodels.tsa.tsatools import lagmat, lagmat2ds\n",
    "\n",
    "def generate_fake_data(num_obs=100, num_vars=5, max_lag=3, noise_std=1):\n",
    "    np.random.seed(42)\n",
    "    data = np.random.randn(num_obs, num_vars + 1)  # +1 for the target variable\n",
    "    for i in range(1, num_vars + 1):\n",
    "        for lag in range(1, max_lag + 1):\n",
    "            data[lag:, i] += 0.5 * data[:-lag, i - 1]\n",
    "    data[:, 0] = 0.5 * data[:, 1] + noise_std * np.random.randn(num_obs)  # Target variable\n",
    "    return pd.DataFrame(data, columns=['Target'] + [f'Var_{i}' for i in range(1, num_vars + 1)])\n",
    "\n",
    "def select_variables_granger_causality(data, max_lag_method='aic', num_vars_to_select=2):\n",
    "    results = []\n",
    "\n",
    "    for var in data.columns[1:]:  # Exclude the target variable\n",
    "        target_series = data['Target']\n",
    "        var_series = data[var]\n",
    "\n",
    "        if max_lag_method == 'acf':\n",
    "            max_lag = select_lag_acf(var_series)\n",
    "        elif max_lag_method == 'pacf':\n",
    "            max_lag = select_lag_pacf(var_series)\n",
    "        elif max_lag_method == 'aic':\n",
    "            max_lag = select_lag_aic(target_series, var_series)\n",
    "        else:\n",
    "            raise ValueError(\"Invalid max_lag_method. Choose 'acf', 'pacf', or 'aic'.\")\n",
    "\n",
    "        test_result = granger_causality_test(target_series, var_series, max_lag)\n",
    "        results.append((var, max_lag, test_result))\n",
    "\n",
    "    results.sort(key=lambda x: x[2])  # Sort by Granger causality test result\n",
    "    selected_vars = [(var, max_lag) for var, max_lag, _ in results[:num_vars_to_select]]\n",
    "\n",
    "    return selected_vars\n",
    "\n",
    "def select_lag_acf(series, max_lag=10):\n",
    "    acf_vals = acf(series, nlags=max_lag)\n",
    "    return np.argmax(np.abs(acf_vals[1:])) + 1\n",
    "\n",
    "def select_lag_pacf(series, max_lag=10):\n",
    "    pacf_vals = pacf(series, nlags=max_lag)\n",
    "    return np.argmax(np.abs(pacf_vals[1:])) + 1\n",
    "\n",
    "def select_lag_aic(target_series, var_series, max_lag=10):\n",
    "    lags = range(1, max_lag + 1)\n",
    "    aic_values = []\n",
    "\n",
    "    for lag in lags:\n",
    "        X = lagmat2ds(var_series, lag, trim='both', dropex=1)\n",
    "        X = sm.add_constant(X)\n",
    "        model = sm.OLS(target_series[lag:], X)\n",
    "        result = model.fit()\n",
    "        aic_values.append(result.aic)\n",
    "\n",
    "    return lags[np.argmin(aic_values)]\n",
    "\n",
    "def granger_causality_test(target_series, var_series, max_lag):\n",
    "    X = lagmat2ds(var_series, max_lag, trim='both', dropex=1)\n",
    "    X = sm.add_constant(X)\n",
    "    y = target_series[max_lag:]\n",
    "    model = sm.OLS(y, X)\n",
    "    result = model.fit()\n",
    "\n",
    "    return result.f_pvalue"
   ]
  },
  {
   "cell_type": "code",
   "execution_count": 4,
   "metadata": {},
   "outputs": [],
   "source": [
    "# Example usage\n",
    "data = generate_fake_data(num_obs=100, num_vars=5, max_lag=3, noise_std=1)"
   ]
  },
  {
   "cell_type": "code",
   "execution_count": 5,
   "metadata": {},
   "outputs": [
    {
     "data": {
      "text/plain": [
       "1"
      ]
     },
     "execution_count": 5,
     "metadata": {},
     "output_type": "execute_result"
    }
   ],
   "source": [
    "select_lag_pacf(data['Var_5'])"
   ]
  },
  {
   "cell_type": "code",
   "execution_count": 6,
   "metadata": {},
   "outputs": [
    {
     "name": "stdout",
     "output_type": "stream",
     "text": [
      "Selected Variables with Max Lags: [('Var_1', 10), ('Var_3', 10)]\n"
     ]
    }
   ],
   "source": [
    "selected_vars = select_variables_granger_causality(data, max_lag_method='aic', num_vars_to_select=2)\n",
    "print(\"Selected Variables with Max Lags:\", selected_vars)"
   ]
  },
  {
   "cell_type": "code",
   "execution_count": 14,
   "metadata": {},
   "outputs": [],
   "source": [
    "def create_lagged_data(data, selected_vars):\n",
    "    lagged_data = pd.DataFrame(index=data.index)\n",
    "    for var, max_lag in selected_vars:\n",
    "        lagged_values = lagmat2ds(data[var], max_lag, trim='both', dropex=1)\n",
    "        for lag in range(1, max_lag + 1):\n",
    "            lagged_data[f'{var}_lag{lag}'] = np.nan  # Initialize the column with NaN values\n",
    "            lagged_data.loc[max_lag:, f'{var}_lag{lag}'] = lagged_values[:, lag]\n",
    "        # Include the original series in lagged_data\n",
    "        lagged_data[var] = data[var]\n",
    "    return pd.concat([data['Target'], lagged_data], axis=1)"
   ]
  },
  {
   "cell_type": "code",
   "execution_count": 15,
   "metadata": {},
   "outputs": [],
   "source": [
    "lagged_data = create_lagged_data(data, selected_vars)"
   ]
  }
 ],
 "metadata": {
  "kernelspec": {
   "display_name": "Python 3",
   "language": "python",
   "name": "python3"
  },
  "language_info": {
   "codemirror_mode": {
    "name": "ipython",
    "version": 3
   },
   "file_extension": ".py",
   "mimetype": "text/x-python",
   "name": "python",
   "nbconvert_exporter": "python",
   "pygments_lexer": "ipython3",
   "version": "3.11.3"
  }
 },
 "nbformat": 4,
 "nbformat_minor": 2
}
